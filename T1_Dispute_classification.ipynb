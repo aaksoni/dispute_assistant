{
 "cells": [
  {
   "cell_type": "markdown",
   "id": "b39faaf6-c35c-433d-b7ce-5a97a9651961",
   "metadata": {},
   "source": [
    "# TASK 1: "
   ]
  },
  {
   "cell_type": "markdown",
   "id": "74ea2062-37c2-41a5-9ace-e63f91140691",
   "metadata": {},
   "source": [
    "## Objective was the classify the Disputes efficiently in 5 categories :\n",
    "\n",
    "### [DUPLICATE_CHARGE,FAILED_TRANSACTION, FRAUD, REFUND_PENDING, OTHERS]\n",
    "\n",
    "### I tried 3 approaches : \n",
    "### (i) regular word match classification (kind of rule based),\n",
    "### (ii) classifcation using semantic similarity using sentence-transformers/all-MiniLM-L6-v2 (for vector embedding) and cosine similarity to map with appropriate category\n",
    "### (iii) hybrid classification -> using approach (ii) with 60% weightage and rest 40% weightage is given to fuzzy score -> { Resulted in Accurate classification}\n",
    "\n",
    "### A final validation is done from transactions file for duplicate check"
   ]
  },
  {
   "cell_type": "code",
   "execution_count": 237,
   "id": "ffd5b9df-ab9e-40b5-86ad-bcbb4fbf2438",
   "metadata": {},
   "outputs": [],
   "source": [
    "import pandas as pd"
   ]
  },
  {
   "cell_type": "markdown",
   "id": "f7177592-5faf-4f6f-a298-2df8a665aad0",
   "metadata": {},
   "source": [
    "### STEP 1: RETRIEVE CSV FILES"
   ]
  },
  {
   "cell_type": "code",
   "execution_count": 238,
   "id": "aa4bfe48-6a52-49ab-92fd-a9bc6736c561",
   "metadata": {},
   "outputs": [],
   "source": [
    "disputes = pd.read_csv('disputes.csv')\n",
    "#print(disputes)"
   ]
  },
  {
   "cell_type": "code",
   "execution_count": 239,
   "id": "2174d238-9140-435e-b223-6724f3f130c6",
   "metadata": {},
   "outputs": [],
   "source": [
    "transactions = pd.read_csv('transactions.csv')\n",
    "#print(transactions)\n"
   ]
  },
  {
   "cell_type": "code",
   "execution_count": 240,
   "id": "583aa480-a42b-4bf9-bcf9-4e3e3d152f80",
   "metadata": {},
   "outputs": [],
   "source": [
    "merged = disputes.merge(transactions, how = 'left',on = ['customer_id'])"
   ]
  },
  {
   "cell_type": "markdown",
   "id": "f7c1978b-03fc-4a92-b0ac-0ab80ec781d2",
   "metadata": {},
   "source": [
    "## APPROACH 1"
   ]
  },
  {
   "cell_type": "code",
   "execution_count": 241,
   "id": "fd2e515e-83b1-4da0-9200-c8fc1f903bd4",
   "metadata": {},
   "outputs": [],
   "source": [
    "CLASSIFICATION_RULES = {\n",
    "    'DUPLICATE_CHARGE': ['duplicate', 'twice', 'double', 'multiple times'],\n",
    "    'FAILED_TRANSACTION': ['failed', 'declined', 'error', 'timeout', 'unsuccessful'],\n",
    "    'FRAUD': ['unauthorized', 'did not make', 'stolen', 'hack', 'suspicious','unknown'],\n",
    "    'REFUND_PENDING': ['refund', 'return', 'cancel', 'reverse'],\n",
    "}"
   ]
  },
  {
   "cell_type": "code",
   "execution_count": 242,
   "id": "f966fa06-16e5-4d2f-81f7-9fd43958ba24",
   "metadata": {},
   "outputs": [],
   "source": [
    "def classify_dispute(description):\n",
    "    scores = {}\n",
    "    for category, keywords in CLASSIFICATION_RULES.items():\n",
    "        score = sum(1 for keyword in keywords if keyword in description.lower())\n",
    "        scores[category] = score\n",
    "        max_score = max(scores.values())\n",
    "    if max_score == 0:\n",
    "        return 'OTHERS', 0.3\n",
    "    \n",
    "    predicted_category = max(scores, key=scores.get)\n",
    "    confidence = min(0.9, 0.5 + (max_score * 0.2))\n",
    "    return predicted_category, confidence"
   ]
  },
  {
   "cell_type": "code",
   "execution_count": 243,
   "id": "c73ae9c4-5fb6-4076-8b61-ab50f1785670",
   "metadata": {},
   "outputs": [],
   "source": [
    "# for i in disputes.description:\n",
    "#     print(i)\n",
    "#     print(classify_dispute(i))"
   ]
  },
  {
   "cell_type": "code",
   "execution_count": null,
   "id": "7953c089-cb23-430a-a252-6f833809d7cf",
   "metadata": {},
   "outputs": [],
   "source": []
  },
  {
   "cell_type": "code",
   "execution_count": null,
   "id": "a068b6ba-834c-4ed9-8c9a-3176f07f3600",
   "metadata": {},
   "outputs": [],
   "source": []
  },
  {
   "cell_type": "markdown",
   "id": "8e51e2e9-d545-4591-8c86-0040f2573e88",
   "metadata": {},
   "source": [
    "### APPROACH 2"
   ]
  },
  {
   "cell_type": "code",
   "execution_count": 244,
   "id": "696e885f-d931-479f-82e6-5829936b90b4",
   "metadata": {},
   "outputs": [],
   "source": [
    "from sentence_transformers import SentenceTransformer\n",
    "import numpy as np\n",
    "from sklearn.metrics.pairwise import cosine_similarity\n",
    "\n",
    "model = SentenceTransformer('all-MiniLM-L6-v2')\n",
    "\n",
    "SEMANTIC_TEMPLATES = {\n",
    "    'DUPLICATE_CHARGE': [\n",
    "        \"I was charged twice for the same purchase\",\n",
    "        \"Double billing for single transaction\", \n",
    "        \"Multiple charges for one order\",\n",
    "        \"Transfered two times\"\n",
    "    ],\n",
    "    'FAILED_TRANSACTION': [\n",
    "        \"Payment failed but money was deducted\",\n",
    "        \"Transaction unsuccessful but charged\",\n",
    "        \"Payment error occurred\"\n",
    "    ],\n",
    "    'FRAUD': [\n",
    "        \"Unauthorized transaction on my account\",\n",
    "        \"I didn't make this purchase\",\n",
    "        \"Someone used my card without permission\",\n",
    "        \"This is Fraud\",\n",
    "        \"Someone asked for otp and amount got deducted\"\n",
    "    ],\n",
    "    'REFUND_PENDING':[\n",
    "        \"Didn't received refund yet\",\n",
    "        \"Refund not processed\",\n",
    "        \"Amount didnt come back\"\n",
    "    ]\n",
    "}"
   ]
  },
  {
   "cell_type": "code",
   "execution_count": 245,
   "id": "b761414b-9221-479c-9b07-ba164671f531",
   "metadata": {},
   "outputs": [],
   "source": [
    "def semantic_classify(dispute_text):\n",
    "    dispute_embedding = model.encode([dispute_text])\n",
    "    \n",
    "    best_category = None\n",
    "    best_score = 0\n",
    "    \n",
    "    for category, templates in SEMANTIC_TEMPLATES.items():\n",
    "        template_embeddings = model.encode(templates)\n",
    "        similarities = cosine_similarity(dispute_embedding, template_embeddings)\n",
    "        max_similarity = np.max(similarities)\n",
    "        \n",
    "        if max_similarity > best_score:\n",
    "            best_score = max_similarity\n",
    "            best_category = category\n",
    "    \n",
    "    confidence = min(0.95, best_score * 1.2) \n",
    "    return best_category, confidence"
   ]
  },
  {
   "cell_type": "code",
   "execution_count": 246,
   "id": "7ac0624e-8807-412c-8cfa-71c55f8a7eec",
   "metadata": {},
   "outputs": [
    {
     "name": "stdout",
     "output_type": "stream",
     "text": [
      "I got charged twice for the same UPI payment\n",
      "('DUPLICATE_CHARGE', 0.95)\n",
      "My NEFT failed but money is not refunded\n",
      "('REFUND_PENDING', np.float32(0.74312127))\n",
      "Transaction shows failed but money was debited\n",
      "('FAILED_TRANSACTION', np.float32(0.93448323))\n",
      "I did not make this payment. This is fraud.\n",
      "('FRAUD', np.float32(0.79995894))\n",
      "Still waiting for refund after canceled transaction\n",
      "('REFUND_PENDING', np.float32(0.88377994))\n",
      "Duplicate charge for the same merchant within minutes\n",
      "('DUPLICATE_CHARGE', np.float32(0.8500476))\n",
      "UPI transfer failed but account is debited\n",
      "('FAILED_TRANSACTION', np.float32(0.66546696))\n",
      "NEFT credited to wrong beneficiary per my statement\n",
      "('FAILED_TRANSACTION', np.float32(0.4576547))\n",
      "Chargeback requested as I don't recognize this card txn\n",
      "('FRAUD', np.float32(0.53655744))\n",
      "Refund pending for a week after failed POS swipe\n",
      "('REFUND_PENDING', np.float32(0.6725434))\n",
      "Got two UPI debit messages for one QR scan\n",
      "('DUPLICATE_CHARGE', np.float32(0.42898792))\n",
      "Payment stuck in pending, not sure if merchant got it\n",
      "('FAILED_TRANSACTION', np.float32(0.63057387))\n",
      "EMI card was charged twice this month\n",
      "('DUPLICATE_CHARGE', np.float32(0.67737526))\n",
      "My NEFT is showing processed but beneficiary says not received\n",
      "('REFUND_PENDING', np.float32(0.59016913))\n",
      "Got debited after payment failed on gateway\n",
      "('FAILED_TRANSACTION', np.float32(0.93730676))\n",
      "This transaction looks suspicious. I didn't authorize it\n",
      "('FRAUD', np.float32(0.8145237))\n",
      "Refund for canceled order not received\n",
      "('REFUND_PENDING', np.float32(0.90220475))\n",
      "Duplicate UPI transfer to same VPA, minutes apart\n",
      "('DUPLICATE_CHARGE', np.float32(0.698802))\n",
      "NEFT failed but amount not reversed yet\n",
      "('FAILED_TRANSACTION', np.float32(0.55039))\n",
      "Card charged twice at petrol pump\n",
      "('DUPLICATE_CHARGE', np.float32(0.6574571))\n"
     ]
    }
   ],
   "source": [
    "for i in disputes.description:\n",
    "    print(i)\n",
    "    print(semantic_classify(i))"
   ]
  },
  {
   "cell_type": "code",
   "execution_count": 247,
   "id": "dad532e4-5b00-4d11-ba98-658c279f6961",
   "metadata": {},
   "outputs": [],
   "source": [
    "# semantic_classify(\"never returned my money u guys\")\n"
   ]
  },
  {
   "cell_type": "code",
   "execution_count": null,
   "id": "2d72d10c-802d-4f06-8a0a-a24d46d64e29",
   "metadata": {},
   "outputs": [],
   "source": []
  },
  {
   "cell_type": "markdown",
   "id": "163a8f12-244f-49d1-bef9-4b17533a9816",
   "metadata": {},
   "source": [
    "### APPROACH 3\n"
   ]
  },
  {
   "cell_type": "code",
   "execution_count": 248,
   "id": "d43971ac-d25c-437d-8d0f-23d84eeb0d1b",
   "metadata": {},
   "outputs": [],
   "source": [
    "from fuzzywuzzy import fuzz, process\n",
    "import re\n",
    "\n",
    "FUZZY_KEYWORDS = {\n",
    "    'DUPLICATE_CHARGE': [\n",
    "        'duplicate', 'double charge', 'charged twice', 'billed twice',\n",
    "        'multiple charge', 'same transaction', 'repeated payment','debited twice'\n",
    "    ],\n",
    "    'FAILED_TRANSACTION': [\n",
    "        'failed payment', 'transaction failed', 'payment error',\n",
    "        'declined', 'unsuccessful', 'payment issue','not received'\n",
    "    ],\n",
    "    'FRAUD': [\n",
    "        'unauthorized', 'not authorized', 'didnt make', 'stolen card',\n",
    "        'fraudulent', 'suspicious', 'unknown transaction'\n",
    "    ],\n",
    "    'REFUND_PENDING': [ \n",
    "        'not refunded','amount not returned',' return pending'\n",
    "                      ]\n",
    "}\n",
    "\n",
    "def fuzzy_classify(text):\n",
    "    text_clean = re.sub(r'[^\\w\\s]', '', text.lower())\n",
    "    category_scores = {}\n",
    "    \n",
    "    for category, keywords in FUZZY_KEYWORDS.items():\n",
    "        max_fuzzy_score = 0\n",
    "        for keyword in keywords:\n",
    "            fuzzy_score = fuzz.partial_ratio(keyword, text_clean)\n",
    "            token_score = fuzz.token_sort_ratio(keyword, text_clean) #handle spelling error\n",
    "            \n",
    "            combined_score = max(fuzzy_score, token_score)\n",
    "            if combined_score > max_fuzzy_score:\n",
    "                max_fuzzy_score = combined_score\n",
    "                best_match = keyword\n",
    "        \n",
    "        category_scores[category] = max_fuzzy_score / 100.0\n",
    "    \n",
    "    return category_scores"
   ]
  },
  {
   "cell_type": "code",
   "execution_count": 250,
   "id": "5d850e65-67fe-465d-afc6-c1b7bf332739",
   "metadata": {},
   "outputs": [],
   "source": [
    "def hybrid_classify(dispute_text,confidence_threshold=0.6):\n",
    "    \n",
    "    fuzzy_scores = fuzzy_classify(dispute_text)\n",
    "    semantic_category, semantic_confidence = semantic_classify(dispute_text)\n",
    "    \n",
    "    CATEGORIES = ['DUPLICATE_CHARGE','FAILED_TRANSACTION','FRAUD','REFUND_PENDING']\n",
    "    final_scores = {}\n",
    "    \n",
    "    for category in CATEGORIES:\n",
    "        fuzzy_weight = 0.4\n",
    "        semantic_weight = 0.6\n",
    "        \n",
    "        fuzzy_score = fuzzy_scores.get(category, 0)\n",
    "        semantic_score = semantic_confidence if semantic_category == category else 0\n",
    "        \n",
    "        final_scores[category] = (fuzzy_weight * fuzzy_score + \n",
    "                                 semantic_weight * semantic_score)\n",
    "    \n",
    "    best_category = max(final_scores, key=final_scores.get)\n",
    "    confidence = final_scores[best_category]\n",
    "    original_category = best_category  \n",
    "    \n",
    "    if confidence < confidence_threshold:\n",
    "        best_category = 'OTHERS'\n",
    "    \n",
    "    return (best_category, confidence, \n",
    "            {'fuzzy_scores': fuzzy_scores, 'semantic_match': semantic_category},\n",
    "            semantic_category, semantic_confidence, original_category)"
   ]
  },
  {
   "cell_type": "code",
   "execution_count": 259,
   "id": "44cd29bf-af12-4ac4-a8e9-3589e06aa849",
   "metadata": {},
   "outputs": [],
   "source": [
    "def classify_disputes_batch(df, text_column='description', confidence_threshold=0.6):\n",
    "\n",
    "    result_df = df.copy()\n",
    "    \n",
    "    predicted_categories = []\n",
    "    confidences = []\n",
    "    explanations = []\n",
    "    semantic_categories = []\n",
    "    semantic_confidences = []\n",
    "    original_categories = []  \n",
    "    fuzzy_score_details = []\n",
    "    \n",
    "    for idx, row in df.iterrows():\n",
    "        dispute_text = str(row[text_column])\n",
    "        \n",
    "        try:\n",
    "            category, confidence, details, semantic_cat, semantic_conf, original_cat = hybrid_classify(dispute_text, confidence_threshold)\n",
    "            \n",
    "            predicted_categories.append(category)\n",
    "            confidences.append(round(confidence, 3))\n",
    "            semantic_categories.append(semantic_cat)\n",
    "            semantic_confidences.append(round(semantic_conf, 3))\n",
    "            original_categories.append(original_cat)\n",
    "            \n",
    "            fuzzy_detail = ', '.join([f\"{k}:{v:.2f}\" for k, v in details['fuzzy_scores'].items()])\n",
    "            fuzzy_score_details.append(fuzzy_detail)\n",
    "            \n",
    "            explanation = f\"Original: {original_cat}, Semantic: {semantic_cat}({semantic_conf:.3f}), Final: {category}\"\n",
    "            explanations.append(explanation)\n",
    "            \n",
    "        except Exception as e:\n",
    "            predicted_categories.append('OTHERS')\n",
    "            confidences.append(0.0)\n",
    "            semantic_categories.append('ERROR')\n",
    "            semantic_confidences.append(0.0)\n",
    "            original_categories.append('ERROR')\n",
    "            fuzzy_score_details.append('ERROR')\n",
    "            explanations.append(f\"Error: {str(e)}\")\n",
    "    \n",
    "    result_df['predicted_category'] = predicted_categories\n",
    "    result_df['confidence'] = confidences\n",
    "    result_df['semantic_category'] = semantic_categories\n",
    "    result_df['semantic_confidence'] = semantic_confidences\n",
    "    result_df['original_prediction'] = original_categories\n",
    "    result_df['fuzzy_scores'] = fuzzy_score_details\n",
    "    result_df['explanation'] = explanations\n",
    "    \n",
    "    return result_df"
   ]
  },
  {
   "cell_type": "code",
   "execution_count": 260,
   "id": "0c2cecd7-65f9-49c1-8402-c2c0de34cf99",
   "metadata": {},
   "outputs": [],
   "source": [
    "df = classify_disputes_batch(disputes)"
   ]
  },
  {
   "cell_type": "code",
   "execution_count": 261,
   "id": "33534a6d-ab0f-46de-b435-36b082eb4319",
   "metadata": {},
   "outputs": [],
   "source": [
    "#df"
   ]
  },
  {
   "cell_type": "code",
   "execution_count": 262,
   "id": "8b699609-90ee-4f9b-94db-f25f284973bc",
   "metadata": {},
   "outputs": [],
   "source": [
    "# hybrid_classify(\"no  dffund\")"
   ]
  },
  {
   "cell_type": "code",
   "execution_count": null,
   "id": "d2802fde-0452-4dc5-8085-d85d617756c4",
   "metadata": {},
   "outputs": [],
   "source": []
  },
  {
   "cell_type": "markdown",
   "id": "8bcd0aa0-de2b-4680-831c-eff747212d14",
   "metadata": {},
   "source": [
    "## FINAL VALIDATION"
   ]
  },
  {
   "cell_type": "code",
   "execution_count": 284,
   "id": "30b16c67-d6e6-4c64-a4c5-d450d39625dd",
   "metadata": {},
   "outputs": [],
   "source": [
    "def validate_disputes_against_transactions(classified_df, transactions_df):\n",
    "\n",
    "    result_df = classified_df.copy()\n",
    "    \n",
    "    for idx, row in result_df.iterrows():\n",
    "        dispute_txn_id = row['txn_id']\n",
    "        predicted_category = row['predicted_category']\n",
    "        original_explanation = row['explanation']\n",
    "        \n",
    "        # Find the transaction for this dispute\n",
    "        transaction = transactions_df[transactions_df['txn_id'] == dispute_txn_id]\n",
    "        \n",
    "        if transaction.empty:\n",
    "            # No transaction found - mark as OTHERS\n",
    "            result_df.at[idx, 'predicted_category'] = 'OTHERS'\n",
    "            result_df.at[idx, 'explanation'] = f\"{original_explanation} | VALIDATION: No transaction found\"\n",
    "            continue\n",
    "        \n",
    "        txn_status = transaction.iloc[0]['status']\n",
    "        \n",
    "        # Apply validation rules based on predicted category\n",
    "        if predicted_category == 'DUPLICATE_CHARGE':\n",
    "\n",
    "            base_txn_id = dispute_txn_id.split('_DUP')[0] \n",
    "            related_txns = transactions_df[transactions_df['txn_id'].str.startswith(base_txn_id)]\n",
    "            \n",
    "            # Check if multiple transactions exist and all are SUCCESS\n",
    "            if len(related_txns) > 1 and all(related_txns['status'] == 'SUCCESS'):\n",
    "                # Keep as DUPLICATE_CHARGE\n",
    "                result_df.at[idx, 'explanation'] = f\"VALIDATED: Multiple SUCCESS transactions found| {original_explanation} \"\n",
    "            else:\n",
    "                # Change to OTHERS\n",
    "                result_df.at[idx, 'predicted_category'] = 'OTHERS'\n",
    "                result_df.at[idx, 'explanation'] = f\"VALIDATION: Not valid duplicate (status check failed)| {original_explanation} \"\n",
    "        \n",
    "        elif predicted_category == 'FAILED_TRANSACTION':\n",
    "            # Check if transaction status is NOT SUCCESS\n",
    "            if txn_status != 'SUCCESS':\n",
    "                # Keep as FAILED_TRANSACTION\n",
    "                result_df.at[idx, 'explanation'] = f\"VALIDATED: Transaction status is {txn_status}| {original_explanation} \"\n",
    "            else:\n",
    "                # Change to OTHERS\n",
    "                result_df.at[idx, 'predicted_category'] = 'OTHERS'\n",
    "                result_df.at[idx, 'explanation'] = f\"VALIDATION: Transaction is SUCCESS, not failed| {original_explanation}  \"\n",
    "        \n",
    "        elif predicted_category == 'FRAUD':\n",
    "            # Check if transaction status is SUCCESS\n",
    "            if txn_status == 'SUCCESS':\n",
    "                # Keep as FRAUD\n",
    "                result_df.at[idx, 'explanation'] = f\"VALIDATED: SUCCESS transaction reported as fraud| {original_explanation}  \"\n",
    "            else:\n",
    "                # Change to OTHERS\n",
    "                result_df.at[idx, 'predicted_category'] = 'OTHERS'\n",
    "                result_df.at[idx, 'explanation'] = f\"VALIDATION: Non-SUCCESS transaction, not fraud case| {original_explanation} \"\n",
    "    \n",
    "        elif predicted_category == 'REFUND_PENDING':\n",
    "            # Check if transaction status is SUCCESS\n",
    "            if txn_status != 'SUCCESS':\n",
    "                # Keep as REFUND_PENDING\n",
    "                result_df.at[idx, 'explanation'] = f\"VALIDATED: FAILED transaction, eligible for refund| {original_explanation} \"\n",
    "            else:\n",
    "                # Change to OTHERS\n",
    "                result_df.at[idx, 'predicted_category'] = 'OTHERS'\n",
    "                result_df.at[idx, 'explanation'] = f\"VALIDATION: SUCCESS transaction, refund not applicable| {original_explanation} \"\n",
    "        elif predicted_category == 'OTHERS':\n",
    "            result_df.at[idx, 'explanation'] = f\"Expected to be: {result_df.at[idx, 'original_prediction']}, but low confidence score. \"    \n",
    "    return result_df\n",
    "\n",
    "def print_validation_summary(original_df, validated_df):\n",
    "    print(\"=== VALIDATION SUMMARY ===\")\n",
    "    \n",
    "    print(\"\\nOriginal Classifications:\")\n",
    "    print(original_df['predicted_category'].value_counts())\n",
    "    \n",
    "    print(\"\\nAfter Validation:\")\n",
    "    print(validated_df['predicted_category'].value_counts())\n",
    "    \n",
    "    changes = 0\n",
    "    for category in ['DUPLICATE_CHARGE', 'FAILED_TRANSACTION', 'FRAUD', 'REFUND_PENDING']:\n",
    "        original_count = (original_df['predicted_category'] == category).sum()\n",
    "        validated_count = (validated_df['predicted_category'] == category).sum()\n",
    "        reclassified = original_count - validated_count\n",
    "        if reclassified > 0:\n",
    "            print(f\"{category}: {reclassified} reclassified to OTHERS\")\n",
    "            changes += reclassified\n",
    "    \n",
    "    print(f\"\\nTotal reclassifications: {changes}\")"
   ]
  },
  {
   "cell_type": "code",
   "execution_count": 264,
   "id": "9a5b3b94-0efd-4f23-88b8-29d6c0369af5",
   "metadata": {},
   "outputs": [],
   "source": [
    "result_df = validate_disputes_against_transactions(df,transactions)"
   ]
  },
  {
   "cell_type": "code",
   "execution_count": 266,
   "id": "46b4806f-95d0-4b03-a2e3-c097711e3c45",
   "metadata": {},
   "outputs": [
    {
     "name": "stdout",
     "output_type": "stream",
     "text": [
      "=== VALIDATION SUMMARY ===\n",
      "\n",
      "Original Classifications:\n",
      "predicted_category\n",
      "DUPLICATE_CHARGE      5\n",
      "REFUND_PENDING        5\n",
      "FAILED_TRANSACTION    5\n",
      "OTHERS                3\n",
      "FRAUD                 2\n",
      "Name: count, dtype: int64\n",
      "\n",
      "After Validation:\n",
      "predicted_category\n",
      "DUPLICATE_CHARGE      5\n",
      "FAILED_TRANSACTION    5\n",
      "REFUND_PENDING        4\n",
      "OTHERS                4\n",
      "FRAUD                 2\n",
      "Name: count, dtype: int64\n",
      "REFUND_PENDING: 1 reclassified to OTHERS\n",
      "\n",
      "Total reclassifications: 1\n"
     ]
    }
   ],
   "source": [
    "print_validation_summary(df, result_df)"
   ]
  },
  {
   "cell_type": "code",
   "execution_count": 267,
   "id": "1144a2b9-5d46-4977-a0ed-4840c5406f14",
   "metadata": {},
   "outputs": [],
   "source": [
    "result_df[['dispute_id', 'predicted_category', 'confidence', 'explanation']].to_csv('classified_disputes.csv')"
   ]
  },
  {
   "cell_type": "code",
   "execution_count": null,
   "id": "85ea33b8-4d7e-478d-96e6-7493f2b004d0",
   "metadata": {},
   "outputs": [],
   "source": []
  },
  {
   "cell_type": "code",
   "execution_count": 280,
   "id": "0e1322ab-266a-4315-b235-52668fee7cb9",
   "metadata": {},
   "outputs": [],
   "source": [
    "final_classified_df = result_df[['dispute_id', 'predicted_category', 'confidence', 'explanation']]"
   ]
  },
  {
   "cell_type": "code",
   "execution_count": 285,
   "id": "5e570ca3-302f-4436-aa14-db7a8d3e3e18",
   "metadata": {},
   "outputs": [
    {
     "name": "stderr",
     "output_type": "stream",
     "text": [
      "/var/folders/1q/k68pbfsn5rg9gtdjlvb3pvx80000gn/T/ipykernel_49474/3612069153.py:64: FutureWarning: \n",
      "\n",
      "Passing `palette` without assigning `hue` is deprecated and will be removed in v0.14.0. Assign the `x` variable to `hue` and set `legend=False` for the same effect.\n",
      "\n",
      "  sns.boxplot(\n"
     ]
    },
    {
     "data": {
      "image/png": "[encoded data removed]",
      "text/plain": [
       "<Figure size 1500x1000 with 3 Axes>"
      ]
     },
     "metadata": {},
     "output_type": "display_data"
    }
   ],
   "source": [
    "import matplotlib.pyplot as plt\n",
    "import seaborn as sns\n",
    "import pandas as pd\n",
    "from datetime import datetime\n",
    "import numpy as np\n",
    "\n",
    "\n",
    "plt.style.use(\"default\") \n",
    "sns.set_palette(\"Set2\")   \n",
    "\n",
    "def visualize_task1_trends(classified_df, transactions_df):\n",
    "\n",
    "    merged_df = classified_df.merge(\n",
    "        disputes[['dispute_id', 'created_at']], \n",
    "        on='dispute_id', how='left'\n",
    "    )\n",
    "    \n",
    "    merged_df['created_at'] = pd.to_datetime(merged_df['created_at'])\n",
    "    merged_df['date'] = merged_df['created_at'].dt.date\n",
    "    \n",
    "    fig, axes = plt.subplots(2, 2, figsize=(15, 10))\n",
    "    fig.delaxes(axes[1, 0]) \n",
    "    fig.suptitle('Task 1: Dispute Classification Trends', fontsize=18, fontweight='bold', color=\"#333333\")\n",
    "\n",
    "    # 1. Category Distribution (Pie Chart)\n",
    "    category_counts = classified_df['predicted_category'].value_counts()\n",
    "    axes[0, 0].pie(\n",
    "        category_counts.values, \n",
    "        labels=category_counts.index, \n",
    "        autopct='%1.1f%%', \n",
    "        startangle=90, \n",
    "        colors=sns.color_palette(\"Set2\"),\n",
    "        explode=[0.05]*len(category_counts), \n",
    "        shadow=True\n",
    "    )\n",
    "    axes[0, 0].set_title('Dispute Category Distribution', fontsize=14, fontweight=\"bold\")\n",
    "\n",
    "    # 2. Disputes by Date (Bar Chart)\n",
    "    try:\n",
    "        daily_disputes = merged_df.groupby(['date', 'predicted_category']).size().unstack(fill_value=0)\n",
    "        if not daily_disputes.empty and daily_disputes.sum().sum() > 0:\n",
    "            daily_disputes.plot(\n",
    "                kind='bar', stacked=True, ax=axes[0, 1],\n",
    "                color=sns.color_palette(\"Set2\")\n",
    "            )\n",
    "            axes[0, 1].set_title('Daily Dispute Trends by Category', fontsize=14, fontweight=\"bold\")\n",
    "            axes[0, 1].set_xlabel('Date')\n",
    "            axes[0, 1].set_ylabel('Number of Disputes')\n",
    "            axes[0, 1].tick_params(axis='x', rotation=45)\n",
    "            axes[0, 1].legend(bbox_to_anchor=(1.05, 1), loc='upper left', title=\"Category\")\n",
    "        else:\n",
    "            category_counts.plot(kind='bar', ax=axes[0, 1], color=sns.color_palette(\"Set2\"))\n",
    "            axes[0, 1].set_title('Category Distribution (Bar Chart)', fontsize=14, fontweight=\"bold\")\n",
    "            axes[0, 1].set_xlabel('Category')\n",
    "            axes[0, 1].set_ylabel('Count')\n",
    "            axes[0, 1].tick_params(axis='x', rotation=45)\n",
    "    except Exception as e:\n",
    "        print(f\"Error in daily disputes plot: {e}\")\n",
    "        category_counts.plot(kind='bar', ax=axes[0, 1], color=sns.color_palette(\"Set2\"))\n",
    "        axes[0, 1].set_title('Category Distribution (Bar Chart)', fontsize=14, fontweight=\"bold\")\n",
    "        axes[0, 1].tick_params(axis='x', rotation=45)\n",
    "\n",
    "    # 3. Confidence Distribution by Category (Box Plot)\n",
    "    sns.boxplot(\n",
    "        data=classified_df, x='predicted_category', y='confidence', \n",
    "        ax=axes[1, 1], palette=\"Set2\"\n",
    "    )\n",
    "    axes[1, 1].set_title('Confidence Distribution by Category', fontsize=14, fontweight=\"bold\")\n",
    "    axes[1, 1].set_xlabel('Category')\n",
    "    axes[1, 1].set_ylabel('Confidence Score')\n",
    "    axes[1, 1].tick_params(axis='x', rotation=45)\n",
    "\n",
    "    plt.tight_layout()\n",
    "    plt.subplots_adjust(top=0.92) \n",
    "    plt.savefig('task1_dispute_trends.png', dpi=300, bbox_inches='tight')\n",
    "    plt.show()\n",
    "\n",
    "\n",
    "visualize_task1_trends(final_classified_df, disputes)"
   ]
  },
  {
   "cell_type": "code",
   "execution_count": null,
   "id": "caf780a5-5a5a-424a-ad50-319dc9ed2814",
   "metadata": {},
   "outputs": [],
   "source": []
  },
  {
   "cell_type": "code",
   "execution_count": null,
   "id": "dbfdc7cd-3614-4d6c-9e5d-e4f0a37c42a1",
   "metadata": {},
   "outputs": [],
   "source": []
  }
 ],
 "metadata": {
  "kernelspec": {
   "display_name": "Python 3 (ipykernel)",
   "language": "python",
   "name": "python3"
  },
  "language_info": {
   "codemirror_mode": {
    "name": "ipython",
    "version": 3
   },
   "file_extension": ".py",
   "mimetype": "text/x-python",
   "name": "python",
   "nbconvert_exporter": "python",
   "pygments_lexer": "ipython3",
   "version": "3.12.0"
  }
 },
 "nbformat": 4,
 "nbformat_minor": 5
}
